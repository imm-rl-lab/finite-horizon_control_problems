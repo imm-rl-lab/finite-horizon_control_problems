{
 "cells": [
  {
   "cell_type": "code",
   "execution_count": 2,
   "id": "7f9a92e8-0e62-42eb-8e88-4eb6ad0fd676",
   "metadata": {},
   "outputs": [
    {
     "name": "stdout",
     "output_type": "stream",
     "text": [
      "The autoreload extension is already loaded. To reload it, use:\n",
      "  %reload_ext autoreload\n"
     ]
    },
    {
     "ename": "KeyError",
     "evalue": "'best_session'",
     "output_type": "error",
     "traceback": [
      "\u001b[1;31m---------------------------------------------------------------------------\u001b[0m",
      "\u001b[1;31mKeyError\u001b[0m                                  Traceback (most recent call last)",
      "Input \u001b[1;32mIn [2]\u001b[0m, in \u001b[0;36m<cell line: 10>\u001b[1;34m()\u001b[0m\n\u001b[0;32m      6\u001b[0m get_ipython()\u001b[38;5;241m.\u001b[39mrun_line_magic(\u001b[38;5;124m'\u001b[39m\u001b[38;5;124mautoreload\u001b[39m\u001b[38;5;124m'\u001b[39m, \u001b[38;5;124m'\u001b[39m\u001b[38;5;124m2\u001b[39m\u001b[38;5;124m'\u001b[39m)\n\u001b[0;32m      9\u001b[0m reader \u001b[38;5;241m=\u001b[39m Reader(\u001b[38;5;28;01mNone\u001b[39;00m)\n\u001b[1;32m---> 10\u001b[0m \u001b[43mreader\u001b[49m\u001b[38;5;241;43m.\u001b[39;49m\u001b[43madd_plots_for_all_params\u001b[49m\u001b[43m(\u001b[49m\u001b[38;5;124;43m'\u001b[39;49m\u001b[38;5;124;43mA2C_Discrete\u001b[39;49m\u001b[38;5;124;43m'\u001b[39;49m\u001b[43m,\u001b[49m\u001b[43m \u001b[49m\u001b[43mfilter_str\u001b[49m\u001b[38;5;241;43m=\u001b[39;49m\u001b[38;5;124;43m'\u001b[39;49m\u001b[38;5;124;43mSimpleControlProblem\u001b[39;49m\u001b[38;5;124;43m'\u001b[39;49m\u001b[43m)\u001b[49m\n\u001b[0;32m     11\u001b[0m reader\u001b[38;5;241m.\u001b[39madd_plots_for_all_params(\u001b[38;5;124m'\u001b[39m\u001b[38;5;124mA2C_Discrete\u001b[39m\u001b[38;5;124m'\u001b[39m, filter_str\u001b[38;5;241m=\u001b[39m\u001b[38;5;124m'\u001b[39m\u001b[38;5;124mDubinsCar\u001b[39m\u001b[38;5;124m'\u001b[39m)\n\u001b[0;32m     12\u001b[0m reader\u001b[38;5;241m.\u001b[39madd_plots_for_all_params(\u001b[38;5;124m'\u001b[39m\u001b[38;5;124mA2C_Discrete\u001b[39m\u001b[38;5;124m'\u001b[39m, filter_str\u001b[38;5;241m=\u001b[39m\u001b[38;5;124m'\u001b[39m\u001b[38;5;124mPendulum\u001b[39m\u001b[38;5;124m'\u001b[39m)\n",
      "File \u001b[1;32m~\\Desktop\\Диплом\\finite-horizon_control_problems\\Results\\Utilities\\OneAgentReader.py:49\u001b[0m, in \u001b[0;36mOneAgentReader.add_plots_for_all_params\u001b[1;34m(self, experiment_name, from_i, to_i, filter_str)\u001b[0m\n\u001b[0;32m     46\u001b[0m         param \u001b[38;5;241m=\u001b[39m param\u001b[38;5;241m.\u001b[39mreplace(\u001b[38;5;124m\"\u001b[39m\u001b[38;5;124msession_n\u001b[39m\u001b[38;5;124m\"\u001b[39m, \u001b[38;5;124m\"\u001b[39m\u001b[38;5;124msn\u001b[39m\u001b[38;5;124m\"\u001b[39m)\n\u001b[0;32m     47\u001b[0m         param \u001b[38;5;241m=\u001b[39m param\u001b[38;5;241m.\u001b[39mreplace(\u001b[38;5;124m\"\u001b[39m\u001b[38;5;124mlearning_iter_per_fit\u001b[39m\u001b[38;5;124m\"\u001b[39m, \u001b[38;5;124m\"\u001b[39m\u001b[38;5;124mlipf\u001b[39m\u001b[38;5;124m\"\u001b[39m)\n\u001b[1;32m---> 49\u001b[0m         \u001b[38;5;28;43mself\u001b[39;49m\u001b[38;5;241;43m.\u001b[39;49m\u001b[43madd_plot\u001b[49m\u001b[43m(\u001b[49m\u001b[43mparam_folder\u001b[49m\u001b[43m,\u001b[49m\u001b[43m \u001b[49m\u001b[43mparam\u001b[49m\u001b[43m)\u001b[49m\n\u001b[0;32m     52\u001b[0m \u001b[38;5;28;01mreturn\u001b[39;00m \u001b[38;5;28;01mNone\u001b[39;00m\n",
      "File \u001b[1;32m~\\Desktop\\Диплом\\finite-horizon_control_problems\\Results\\Utilities\\OneAgentReader.py:20\u001b[0m, in \u001b[0;36mOneAgentReader.add_plot\u001b[1;34m(self, folder, label)\u001b[0m\n\u001b[0;32m     17\u001b[0m \u001b[38;5;28;01mdef\u001b[39;00m \u001b[38;5;21madd_plot\u001b[39m(\u001b[38;5;28mself\u001b[39m, folder: \u001b[38;5;28mstr\u001b[39m, label: \u001b[38;5;28mstr\u001b[39m):\n\u001b[0;32m     19\u001b[0m     data \u001b[38;5;241m=\u001b[39m \u001b[38;5;28mself\u001b[39m\u001b[38;5;241m.\u001b[39mget_data(folder)\n\u001b[1;32m---> 20\u001b[0m     sessions \u001b[38;5;241m=\u001b[39m [value[\u001b[38;5;124m'\u001b[39m\u001b[38;5;124mbest_session\u001b[39m\u001b[38;5;124m'\u001b[39m] \u001b[38;5;28;01mfor\u001b[39;00m value \u001b[38;5;129;01min\u001b[39;00m data\u001b[38;5;241m.\u001b[39mvalues()]\n\u001b[0;32m     21\u001b[0m     best_total_rewards \u001b[38;5;241m=\u001b[39m [value[\u001b[38;5;124m'\u001b[39m\u001b[38;5;124mbest_total_rewards\u001b[39m\u001b[38;5;124m'\u001b[39m] \u001b[38;5;28;01mfor\u001b[39;00m value \u001b[38;5;129;01min\u001b[39;00m data\u001b[38;5;241m.\u001b[39mvalues()]\n\u001b[0;32m     22\u001b[0m     mean_total_rewards \u001b[38;5;241m=\u001b[39m [value[\u001b[38;5;124m'\u001b[39m\u001b[38;5;124mmean_total_rewards\u001b[39m\u001b[38;5;124m'\u001b[39m] \u001b[38;5;28;01mfor\u001b[39;00m value \u001b[38;5;129;01min\u001b[39;00m data\u001b[38;5;241m.\u001b[39mvalues()]\n",
      "File \u001b[1;32m~\\Desktop\\Диплом\\finite-horizon_control_problems\\Results\\Utilities\\OneAgentReader.py:20\u001b[0m, in \u001b[0;36m<listcomp>\u001b[1;34m(.0)\u001b[0m\n\u001b[0;32m     17\u001b[0m \u001b[38;5;28;01mdef\u001b[39;00m \u001b[38;5;21madd_plot\u001b[39m(\u001b[38;5;28mself\u001b[39m, folder: \u001b[38;5;28mstr\u001b[39m, label: \u001b[38;5;28mstr\u001b[39m):\n\u001b[0;32m     19\u001b[0m     data \u001b[38;5;241m=\u001b[39m \u001b[38;5;28mself\u001b[39m\u001b[38;5;241m.\u001b[39mget_data(folder)\n\u001b[1;32m---> 20\u001b[0m     sessions \u001b[38;5;241m=\u001b[39m [\u001b[43mvalue\u001b[49m\u001b[43m[\u001b[49m\u001b[38;5;124;43m'\u001b[39;49m\u001b[38;5;124;43mbest_session\u001b[39;49m\u001b[38;5;124;43m'\u001b[39;49m\u001b[43m]\u001b[49m \u001b[38;5;28;01mfor\u001b[39;00m value \u001b[38;5;129;01min\u001b[39;00m data\u001b[38;5;241m.\u001b[39mvalues()]\n\u001b[0;32m     21\u001b[0m     best_total_rewards \u001b[38;5;241m=\u001b[39m [value[\u001b[38;5;124m'\u001b[39m\u001b[38;5;124mbest_total_rewards\u001b[39m\u001b[38;5;124m'\u001b[39m] \u001b[38;5;28;01mfor\u001b[39;00m value \u001b[38;5;129;01min\u001b[39;00m data\u001b[38;5;241m.\u001b[39mvalues()]\n\u001b[0;32m     22\u001b[0m     mean_total_rewards \u001b[38;5;241m=\u001b[39m [value[\u001b[38;5;124m'\u001b[39m\u001b[38;5;124mmean_total_rewards\u001b[39m\u001b[38;5;124m'\u001b[39m] \u001b[38;5;28;01mfor\u001b[39;00m value \u001b[38;5;129;01min\u001b[39;00m data\u001b[38;5;241m.\u001b[39mvalues()]\n",
      "\u001b[1;31mKeyError\u001b[0m: 'best_session'"
     ]
    },
    {
     "data": {
      "image/png": "[encoded data removed]",
      "text/plain": [
       "<Figure size 864x432 with 2 Axes>"
      ]
     },
     "metadata": {
      "needs_background": "light"
     },
     "output_type": "display_data"
    }
   ],
   "source": [
    "import os, sys\n",
    "import matplotlib.pyplot as plt\n",
    "sys.path.insert(0, os.path.abspath('..'))\n",
    "from Utilities.OneAgentReader import OneAgentReader as Reader\n",
    "%load_ext autoreload\n",
    "%autoreload 2\n",
    "\n",
    "\n",
    "reader = Reader(None)\n",
    "reader.add_plots_for_all_params('A2C_Discrete', filter_str='SimpleControlProblem')\n",
    "reader.add_plots_for_all_params('A2C_Discrete', filter_str='DubinsCar')\n",
    "reader.add_plots_for_all_params('A2C_Discrete', filter_str='Pendulum')\n",
    "reader.add_plots_for_all_params('A2C_Discrete', filter_str='VanDerPol')"
   ]
  },
  {
   "cell_type": "code",
   "execution_count": null,
   "id": "d58ba517-e2ee-49c9-9f92-4b648ac96d12",
   "metadata": {},
   "outputs": [],
   "source": []
  }
 ],
 "metadata": {
  "kernelspec": {
   "display_name": "Python 3 (ipykernel)",
   "language": "python",
   "name": "python3"
  },
  "language_info": {
   "codemirror_mode": {
    "name": "ipython",
    "version": 3
   },
   "file_extension": ".py",
   "mimetype": "text/x-python",
   "name": "python",
   "nbconvert_exporter": "python",
   "pygments_lexer": "ipython3",
   "version": "3.10.4"
  }
 },
 "nbformat": 4,
 "nbformat_minor": 5
}
