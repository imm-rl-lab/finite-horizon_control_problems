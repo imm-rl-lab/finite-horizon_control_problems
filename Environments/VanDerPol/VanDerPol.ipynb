{
 "cells": [
  {
   "cell_type": "markdown",
   "metadata": {},
   "source": [
    "# Осциллятор Ван дер Поля"
   ]
  },
  {
   "cell_type": "markdown",
   "metadata": {},
   "source": [
    "Реализован [Осциллятор Ван дер Поля](https://ru.wikipedia.org/wiki/Осциллятор_Ван_дер_Поля), описываемый дифференциальным уравнением\n",
    "\n",
    "$\\ddot{x}(t) - (1 - x^2(t)) \\dot{x}(t) + x(t) = u(t),\\quad t \\in [0,11],\\quad x(t), u(t) \\in \\mathbb R$,\n",
    "\n",
    "при начальном условии $x(0) = 1$, $\\dot{x}(0) = 0$. Для него рассмотрена задача оптимального управления на минимум показателя качества\n",
    "\n",
    "$\\gamma = \\|x(11)\\|^2 + 0.05 \\int_0^{11} u^2(t) d t$"
   ]
  },
  {
   "cell_type": "markdown",
   "metadata": {},
   "source": [
    "Получены следующие результаты:\n",
    "\n",
    "<table>\n",
    "    <tr align=\"center\">\n",
    "        <td>Initial State</td>\n",
    "        <td>True Value</td>\n",
    "        <td>Agent</td>\n",
    "        <td>Learning Value</td>\n",
    "    </tr>\n",
    "    <tr align=\"center\">\n",
    "        <td rowspan=\"1\">[0,1,0]</td>\n",
    "        <td rowspan=\"1\">???</td>\n",
    "        <td align=\"center\">\n",
    "            <a href=\"https://github.com/imm-rl-lab/optimal_control/blob/master/VanDerPol_with_CCEM.ipynb\">CCEM</a>\n",
    "        </td>\n",
    "        <td style=\"background-color:green\">-0.82</td>\n",
    "    </tr>\n",
    "</table>"
   ]
  },
  {
   "cell_type": "code",
   "execution_count": null,
   "metadata": {},
   "outputs": [],
   "source": []
  }
 ],
 "metadata": {
  "kernelspec": {
   "display_name": "Python 3",
   "language": "python",
   "name": "python3"
  },
  "language_info": {
   "codemirror_mode": {
    "name": "ipython",
    "version": 3
   },
   "file_extension": ".py",
   "mimetype": "text/x-python",
   "name": "python",
   "nbconvert_exporter": "python",
   "pygments_lexer": "ipython3",
   "version": "3.8.3"
  }
 },
 "nbformat": 4,
 "nbformat_minor": 4
}
